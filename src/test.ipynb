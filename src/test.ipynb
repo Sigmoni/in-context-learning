{
 "cells": [
  {
   "cell_type": "code",
   "execution_count": 1,
   "metadata": {},
   "outputs": [
    {
     "ename": "KeyboardInterrupt",
     "evalue": "",
     "output_type": "error",
     "traceback": [
      "\u001b[0;31m---------------------------------------------------------------------------\u001b[0m",
      "\u001b[0;31mKeyboardInterrupt\u001b[0m                         Traceback (most recent call last)",
      "Cell \u001b[0;32mIn[1], line 27\u001b[0m\n\u001b[1;32m     25\u001b[0m \u001b[38;5;28;01mfor\u001b[39;00m batch \u001b[38;5;129;01min\u001b[39;00m x:\n\u001b[1;32m     26\u001b[0m     \u001b[38;5;28;01mfor\u001b[39;00m point \u001b[38;5;129;01min\u001b[39;00m batch:\n\u001b[0;32m---> 27\u001b[0m         cnt[\u001b[43mlis\u001b[49m\u001b[43m(\u001b[49m\u001b[43mpoint\u001b[49m\u001b[43m)\u001b[49m] \u001b[38;5;241m+\u001b[39m\u001b[38;5;241m=\u001b[39m \u001b[38;5;241m1\u001b[39m\n\u001b[1;32m     29\u001b[0m plt\u001b[38;5;241m.\u001b[39mbar(\u001b[38;5;28mrange\u001b[39m(\u001b[38;5;241m21\u001b[39m), cnt)\n\u001b[1;32m     30\u001b[0m plt\u001b[38;5;241m.\u001b[39msavefig(\u001b[38;5;124m\"\u001b[39m\u001b[38;5;124mdistribution.png\u001b[39m\u001b[38;5;124m\"\u001b[39m)\n",
      "Cell \u001b[0;32mIn[1], line 12\u001b[0m, in \u001b[0;36mlis\u001b[0;34m(arr)\u001b[0m\n\u001b[1;32m     10\u001b[0m tmp \u001b[38;5;241m=\u001b[39m \u001b[38;5;241m0\u001b[39m\n\u001b[1;32m     11\u001b[0m \u001b[38;5;28;01mfor\u001b[39;00m j \u001b[38;5;129;01min\u001b[39;00m \u001b[38;5;28mrange\u001b[39m(i):\n\u001b[0;32m---> 12\u001b[0m     \u001b[38;5;28;01mif\u001b[39;00m \u001b[43marr\u001b[49m\u001b[43m[\u001b[49m\u001b[43mi\u001b[49m\u001b[43m]\u001b[49m\u001b[43m \u001b[49m\u001b[38;5;241;43m>\u001b[39;49m\u001b[38;5;241;43m=\u001b[39;49m\u001b[43m \u001b[49m\u001b[43marr\u001b[49m\u001b[43m[\u001b[49m\u001b[43mj\u001b[49m\u001b[43m]\u001b[49m:\n\u001b[1;32m     13\u001b[0m         tmp \u001b[38;5;241m=\u001b[39m \u001b[38;5;28mmax\u001b[39m(tmp, res[j])\n\u001b[1;32m     14\u001b[0m res\u001b[38;5;241m.\u001b[39mappend(tmp \u001b[38;5;241m+\u001b[39m \u001b[38;5;241m1\u001b[39m)\n",
      "\u001b[0;31mKeyboardInterrupt\u001b[0m: "
     ]
    }
   ],
   "source": [
    "from samplers import IntSampler\n",
    "\n",
    "import numpy as np\n",
    "import matplotlib.pyplot as plt\n",
    "\n",
    "def lis(arr):\n",
    "    res = [1]\n",
    "    ans = 0\n",
    "    for i in range(1, len(arr)):\n",
    "        tmp = 0\n",
    "        for j in range(i):\n",
    "            if arr[i] >= arr[j]:\n",
    "                tmp = max(tmp, res[j])\n",
    "        res.append(tmp + 1)\n",
    "        ans = max(ans, tmp + 1)\n",
    "\n",
    "    #print(arr, res)\n",
    "\n",
    "    return ans\n",
    "\n",
    "cnt = np.zeros(21)\n",
    "\n",
    "sampler = IntSampler(n_dims=20, low=0, high=40)\n",
    "x = sampler.sample_xs(n_points=1, b_size=10000)\n",
    "for batch in x:\n",
    "    for point in batch:\n",
    "        cnt[lis(point)] += 1\n",
    "\n",
    "plt.bar(range(21), cnt)\n",
    "plt.savefig(\"distribution.png\")"
   ]
  },
  {
   "cell_type": "code",
   "execution_count": 2,
   "metadata": {},
   "outputs": [],
   "source": [
    "def lis(arr):\n",
    "    res = [1]\n",
    "    ans = 0\n",
    "    for i in range(1, len(arr)):\n",
    "        tmp = 0\n",
    "        for j in range(i):\n",
    "            if arr[i] >= arr[j]:\n",
    "                tmp = max(tmp, res[j])\n",
    "        res.append(tmp + 1)\n",
    "        ans = max(ans, tmp + 1)\n",
    "\n",
    "    #print(arr, res)\n",
    "\n",
    "    return ans"
   ]
  },
  {
   "cell_type": "code",
   "execution_count": 6,
   "metadata": {},
   "outputs": [
    {
     "data": {
      "text/plain": [
       "0"
      ]
     },
     "execution_count": 6,
     "metadata": {},
     "output_type": "execute_result"
    }
   ],
   "source": [
    "lis([1])"
   ]
  },
  {
   "cell_type": "code",
   "execution_count": null,
   "metadata": {},
   "outputs": [],
   "source": []
  }
 ],
 "metadata": {
  "language_info": {
   "name": "python"
  }
 },
 "nbformat": 4,
 "nbformat_minor": 2
}
